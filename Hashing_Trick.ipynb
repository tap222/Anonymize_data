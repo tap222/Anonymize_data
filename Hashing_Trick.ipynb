{
 "cells": [
  {
   "cell_type": "code",
   "execution_count": 1,
   "metadata": {
    "collapsed": true
   },
   "outputs": [],
   "source": [
    "import os\n",
    "os.chdir('/home/tapas/Anonymize_data/')"
   ]
  },
  {
   "cell_type": "code",
   "execution_count": 3,
   "metadata": {},
   "outputs": [
    {
     "name": "stdout",
     "output_type": "stream",
     "text": [
      "[['Anna', 'Joe\\n'], ['Anna', 'Mark\\n'], ['Mark', 'Mindy\\n'], ['Mindy', 'Joe\\n']]\n",
      "8144501906216367927,-1669665234272088472\n",
      "8144501906216367927,-1041087933648828870\n",
      "-1041087933648828870,4532279903707940726\n",
      "4532279903707940726,-1669665234272088472\n"
     ]
    }
   ],
   "source": [
    "with open(\"data1.txt\") as f:\n",
    "    lis=[x.split(\",\") for x in f]\n",
    "    print(lis)\n",
    "    items=[map(lambda y:hash(y.strip()),x) for x in lis]\n",
    "    for x in items:\n",
    "        print(\",\".join(map(str,x)))"
   ]
  }
 ],
 "metadata": {
  "kernelspec": {
   "display_name": "Python 3",
   "language": "python",
   "name": "python3"
  },
  "language_info": {
   "codemirror_mode": {
    "name": "ipython",
    "version": 3
   },
   "file_extension": ".py",
   "mimetype": "text/x-python",
   "name": "python",
   "nbconvert_exporter": "python",
   "pygments_lexer": "ipython3",
   "version": "3.6.2"
  }
 },
 "nbformat": 4,
 "nbformat_minor": 2
}
